{
 "cells": [
  {
   "cell_type": "code",
   "execution_count": 18,
   "metadata": {},
   "outputs": [],
   "source": [
    "import numpy as np\n",
    "from sklearn.model_selection import train_test_split\n",
    "import keras\n",
    "from keras import layers"
   ]
  },
  {
   "cell_type": "code",
   "execution_count": 57,
   "metadata": {},
   "outputs": [],
   "source": [
    "PISTON_LENGTH = 100"
   ]
  },
  {
   "cell_type": "code",
   "execution_count": 58,
   "metadata": {},
   "outputs": [],
   "source": [
    "actuator_data = []\n",
    "\n",
    "act_file = open(\"actuator_data.txt\", \"r\")\n",
    "while True:\n",
    "    line = act_file.readline()\n",
    "    if not line:\n",
    "        break\n",
    "    \n",
    "    line_split = line.split()\n",
    "    actuator_data.append(line_split)\n",
    "\n",
    "act_file.close()"
   ]
  },
  {
   "cell_type": "code",
   "execution_count": 59,
   "metadata": {},
   "outputs": [
    {
     "name": "stdout",
     "output_type": "stream",
     "text": [
      "(6258, 6)\n"
     ]
    }
   ],
   "source": [
    "actuator_data = np.array(actuator_data)\n",
    "actuator_data = (actuator_data.astype(np.float64))*PISTON_LENGTH\n",
    "print(actuator_data.shape)"
   ]
  },
  {
   "cell_type": "code",
   "execution_count": 60,
   "metadata": {},
   "outputs": [],
   "source": [
    "platform_data = []\n",
    "\n",
    "plt_file = open(\"platform_data.txt\", \"r\")\n",
    "while True:\n",
    "    line = plt_file.readline()\n",
    "    if not line:\n",
    "        break\n",
    "    \n",
    "    line_split = line.split(\",\")\n",
    "    platform_data.append(line_split)\n",
    "\n",
    "plt_file.close()"
   ]
  },
  {
   "cell_type": "code",
   "execution_count": 61,
   "metadata": {},
   "outputs": [
    {
     "name": "stdout",
     "output_type": "stream",
     "text": [
      "(6258, 7)\n"
     ]
    }
   ],
   "source": [
    "platform_data = np.array(platform_data).astype(np.float64)\n",
    "platform_data_quat = platform_data[:, 3:]\n",
    "print(platform_data.shape)"
   ]
  },
  {
   "cell_type": "code",
   "execution_count": 62,
   "metadata": {},
   "outputs": [],
   "source": [
    "def quaternion_to_euler_angle_vectorized1(w, x, y, z):\n",
    "    ysqr = y * y\n",
    "\n",
    "    t0 = +2.0 * (w * x + y * z)\n",
    "    t1 = +1.0 - 2.0 * (x * x + ysqr)\n",
    "    X = np.degrees(np.arctan2(t0, t1))\n",
    "\n",
    "    t2 = +2.0 * (w * y - z * x)\n",
    "    t2 = np.where(t2>+1.0,+1.0,t2)\n",
    "    #t2 = +1.0 if t2 > +1.0 else t2\n",
    "\n",
    "    t2 = np.where(t2<-1.0, -1.0, t2)\n",
    "    #t2 = -1.0 if t2 < -1.0 else t2\n",
    "    Y = np.degrees(np.arcsin(t2))\n",
    "\n",
    "    t3 = +2.0 * (w * z + x * y)\n",
    "    t4 = +1.0 - 2.0 * (ysqr + z * z)\n",
    "    Z = np.degrees(np.arctan2(t3, t4))\n",
    "\n",
    "    return [X, Y, Z]"
   ]
  },
  {
   "cell_type": "code",
   "execution_count": 63,
   "metadata": {},
   "outputs": [
    {
     "name": "stdout",
     "output_type": "stream",
     "text": [
      "(6258, 3)\n"
     ]
    }
   ],
   "source": [
    "platform_rpy = []\n",
    "\n",
    "for quat in platform_data_quat:\n",
    "    platform_rpy.append(quaternion_to_euler_angle_vectorized1(quat[0], quat[1], quat[2], quat[3]))\n",
    "\n",
    "platform_rpy = np.array(platform_rpy)\n",
    "print(platform_rpy.shape)"
   ]
  },
  {
   "cell_type": "code",
   "execution_count": 64,
   "metadata": {},
   "outputs": [
    {
     "name": "stdout",
     "output_type": "stream",
     "text": [
      "(5319, 7) (939, 7) (5319, 6) (939, 6)\n"
     ]
    }
   ],
   "source": [
    "x_train, x_test, y_train, y_test = train_test_split(platform_data, actuator_data, test_size=0.15)\n",
    "\n",
    "print(x_train.shape, x_test.shape, y_train.shape, y_test.shape)"
   ]
  },
  {
   "cell_type": "code",
   "execution_count": 76,
   "metadata": {},
   "outputs": [
    {
     "name": "stdout",
     "output_type": "stream",
     "text": [
      "Model: \"sequential_10\"\n",
      "_________________________________________________________________\n",
      " Layer (type)                Output Shape              Param #   \n",
      "=================================================================\n",
      " dense_31 (Dense)            (None, 64)                512       \n",
      "                                                                 \n",
      " dense_32 (Dense)            (None, 128)               8320      \n",
      "                                                                 \n",
      " dense_33 (Dense)            (None, 64)                8256      \n",
      "                                                                 \n",
      " dense_34 (Dense)            (None, 6)                 390       \n",
      "                                                                 \n",
      "=================================================================\n",
      "Total params: 17478 (68.27 KB)\n",
      "Trainable params: 17478 (68.27 KB)\n",
      "Non-trainable params: 0 (0.00 Byte)\n",
      "_________________________________________________________________\n"
     ]
    }
   ],
   "source": [
    "# IK Model\n",
    "\n",
    "model = keras.Sequential([\n",
    "    layers.Dense(64, activation='relu', input_shape=(7,)),\n",
    "    layers.Dense(128, activation='relu'),\n",
    "    layers.Dense(64, activation='relu'),\n",
    "    layers.Dense(6, activation='relu')\n",
    "])\n",
    "\n",
    "model.compile(loss='mean_squared_error', optimizer='adam')\n",
    "model.summary()"
   ]
  },
  {
   "cell_type": "code",
   "execution_count": 77,
   "metadata": {},
   "outputs": [
    {
     "name": "stdout",
     "output_type": "stream",
     "text": [
      "Epoch 1/100\n",
      "84/84 [==============================] - 1s 2ms/step - loss: 18.5962 - val_loss: 18.3679\n",
      "Epoch 2/100\n",
      "84/84 [==============================] - 0s 1ms/step - loss: 17.9855 - val_loss: 17.3358\n",
      "Epoch 3/100\n",
      "84/84 [==============================] - 0s 1ms/step - loss: 16.9243 - val_loss: 16.5425\n",
      "Epoch 4/100\n",
      "84/84 [==============================] - 0s 1ms/step - loss: 16.3729 - val_loss: 16.2183\n",
      "Epoch 5/100\n",
      "84/84 [==============================] - 0s 1ms/step - loss: 16.0875 - val_loss: 15.9775\n",
      "Epoch 6/100\n",
      "84/84 [==============================] - 0s 1ms/step - loss: 15.9159 - val_loss: 15.8642\n",
      "Epoch 7/100\n",
      "84/84 [==============================] - 0s 1ms/step - loss: 15.8305 - val_loss: 15.8250\n",
      "Epoch 8/100\n",
      "84/84 [==============================] - 0s 1ms/step - loss: 15.7912 - val_loss: 15.7861\n",
      "Epoch 9/100\n",
      "84/84 [==============================] - 0s 1ms/step - loss: 15.7658 - val_loss: 15.7794\n",
      "Epoch 10/100\n",
      "84/84 [==============================] - 0s 1ms/step - loss: 15.7515 - val_loss: 15.7686\n",
      "Epoch 11/100\n",
      "84/84 [==============================] - 0s 1ms/step - loss: 15.7431 - val_loss: 15.7464\n",
      "Epoch 12/100\n",
      "84/84 [==============================] - 0s 1ms/step - loss: 15.7330 - val_loss: 15.7452\n",
      "Epoch 13/100\n",
      "84/84 [==============================] - 0s 1ms/step - loss: 15.7269 - val_loss: 15.7351\n",
      "Epoch 14/100\n",
      "84/84 [==============================] - 0s 1ms/step - loss: 15.7204 - val_loss: 15.7299\n",
      "Epoch 15/100\n",
      "84/84 [==============================] - 0s 1ms/step - loss: 15.7163 - val_loss: 15.7283\n",
      "Epoch 16/100\n",
      "84/84 [==============================] - 0s 1ms/step - loss: 15.7120 - val_loss: 15.7275\n",
      "Epoch 17/100\n",
      "84/84 [==============================] - 0s 1ms/step - loss: 15.7084 - val_loss: 15.7187\n",
      "Epoch 18/100\n",
      "84/84 [==============================] - 0s 1ms/step - loss: 15.7045 - val_loss: 15.7147\n",
      "Epoch 19/100\n",
      "84/84 [==============================] - 0s 1ms/step - loss: 15.7023 - val_loss: 15.7144\n",
      "Epoch 20/100\n",
      "84/84 [==============================] - 0s 1ms/step - loss: 15.7000 - val_loss: 15.7107\n",
      "Epoch 21/100\n",
      "84/84 [==============================] - 0s 1ms/step - loss: 15.6979 - val_loss: 15.7074\n",
      "Epoch 22/100\n",
      "84/84 [==============================] - 0s 1ms/step - loss: 15.6950 - val_loss: 15.7053\n",
      "Epoch 23/100\n",
      "84/84 [==============================] - 0s 2ms/step - loss: 15.6941 - val_loss: 15.7079\n",
      "Epoch 24/100\n",
      "84/84 [==============================] - 0s 1ms/step - loss: 15.6939 - val_loss: 15.7085\n",
      "Epoch 25/100\n",
      "84/84 [==============================] - 0s 1ms/step - loss: 15.6933 - val_loss: 15.7015\n",
      "Epoch 26/100\n",
      "84/84 [==============================] - 0s 1ms/step - loss: 15.6910 - val_loss: 15.7003\n",
      "Epoch 27/100\n",
      "84/84 [==============================] - 0s 1ms/step - loss: 15.6894 - val_loss: 15.6999\n",
      "Epoch 28/100\n",
      "84/84 [==============================] - 0s 1ms/step - loss: 15.6888 - val_loss: 15.6997\n",
      "Epoch 29/100\n",
      "84/84 [==============================] - 0s 1ms/step - loss: 15.6697 - val_loss: 15.5238\n",
      "Epoch 30/100\n",
      "84/84 [==============================] - 0s 1ms/step - loss: 15.2374 - val_loss: 15.1226\n",
      "Epoch 31/100\n",
      "84/84 [==============================] - 0s 1ms/step - loss: 15.1096 - val_loss: 15.1052\n",
      "Epoch 32/100\n",
      "84/84 [==============================] - 0s 1ms/step - loss: 15.1063 - val_loss: 15.1051\n",
      "Epoch 33/100\n",
      "84/84 [==============================] - 0s 1ms/step - loss: 15.1058 - val_loss: 15.1031\n",
      "Epoch 34/100\n",
      "84/84 [==============================] - 0s 1ms/step - loss: 15.1046 - val_loss: 15.1207\n",
      "Epoch 35/100\n",
      "84/84 [==============================] - 0s 1ms/step - loss: 15.1070 - val_loss: 15.1022\n",
      "Epoch 36/100\n",
      "84/84 [==============================] - 0s 1ms/step - loss: 15.1042 - val_loss: 15.1020\n",
      "Epoch 37/100\n",
      "84/84 [==============================] - 0s 1ms/step - loss: 15.1042 - val_loss: 15.1048\n",
      "Epoch 38/100\n",
      "84/84 [==============================] - 0s 1ms/step - loss: 15.1042 - val_loss: 15.1036\n",
      "Epoch 39/100\n",
      "84/84 [==============================] - 0s 1ms/step - loss: 15.1041 - val_loss: 15.1020\n",
      "Epoch 40/100\n",
      "84/84 [==============================] - 0s 1ms/step - loss: 15.1039 - val_loss: 15.1013\n",
      "Epoch 41/100\n",
      "84/84 [==============================] - 0s 1ms/step - loss: 15.1039 - val_loss: 15.1023\n",
      "Epoch 42/100\n",
      "84/84 [==============================] - 0s 1ms/step - loss: 15.1040 - val_loss: 15.1010\n",
      "Epoch 43/100\n",
      "84/84 [==============================] - 0s 1ms/step - loss: 15.1041 - val_loss: 15.1013\n",
      "Epoch 44/100\n",
      "84/84 [==============================] - 0s 1ms/step - loss: 15.1044 - val_loss: 15.1075\n",
      "Epoch 45/100\n",
      "84/84 [==============================] - 0s 1ms/step - loss: 15.1040 - val_loss: 15.1059\n",
      "Epoch 46/100\n",
      "84/84 [==============================] - 0s 1ms/step - loss: 15.1037 - val_loss: 15.1081\n",
      "Epoch 47/100\n",
      "84/84 [==============================] - 0s 1ms/step - loss: 15.1038 - val_loss: 15.1007\n",
      "Epoch 48/100\n",
      "84/84 [==============================] - 0s 1ms/step - loss: 15.1036 - val_loss: 15.1014\n",
      "Epoch 49/100\n",
      "84/84 [==============================] - 0s 1ms/step - loss: 15.1034 - val_loss: 15.1010\n",
      "Epoch 50/100\n",
      "84/84 [==============================] - 0s 1ms/step - loss: 15.1035 - val_loss: 15.1038\n",
      "Epoch 51/100\n",
      "84/84 [==============================] - 0s 1ms/step - loss: 15.1041 - val_loss: 15.1007\n",
      "Epoch 52/100\n",
      "84/84 [==============================] - 0s 2ms/step - loss: 15.1037 - val_loss: 15.1021\n",
      "Epoch 53/100\n",
      "84/84 [==============================] - 0s 1ms/step - loss: 15.1035 - val_loss: 15.1022\n",
      "Epoch 54/100\n",
      "84/84 [==============================] - 0s 1ms/step - loss: 15.1033 - val_loss: 15.1034\n",
      "Epoch 55/100\n",
      "84/84 [==============================] - 0s 1ms/step - loss: 15.1035 - val_loss: 15.1021\n",
      "Epoch 56/100\n",
      "84/84 [==============================] - 0s 1ms/step - loss: 15.1034 - val_loss: 15.1022\n",
      "Epoch 57/100\n",
      "84/84 [==============================] - 0s 1ms/step - loss: 15.1038 - val_loss: 15.1009\n",
      "Epoch 58/100\n",
      "84/84 [==============================] - 0s 1ms/step - loss: 15.1045 - val_loss: 15.1022\n",
      "Epoch 59/100\n",
      "84/84 [==============================] - 0s 1ms/step - loss: 15.1040 - val_loss: 15.1034\n",
      "Epoch 60/100\n",
      "84/84 [==============================] - 0s 1ms/step - loss: 15.1040 - val_loss: 15.1009\n",
      "Epoch 61/100\n",
      "84/84 [==============================] - 0s 1ms/step - loss: 15.1033 - val_loss: 15.1013\n",
      "Epoch 62/100\n",
      "84/84 [==============================] - 0s 1ms/step - loss: 15.1034 - val_loss: 15.1035\n",
      "Epoch 63/100\n",
      "84/84 [==============================] - 0s 1ms/step - loss: 15.1047 - val_loss: 15.1013\n",
      "Epoch 64/100\n",
      "84/84 [==============================] - 0s 1ms/step - loss: 15.1037 - val_loss: 15.1014\n",
      "Epoch 65/100\n",
      "84/84 [==============================] - 0s 1ms/step - loss: 15.1037 - val_loss: 15.1015\n",
      "Epoch 66/100\n",
      "84/84 [==============================] - 0s 1ms/step - loss: 15.1033 - val_loss: 15.1025\n",
      "Epoch 67/100\n",
      "84/84 [==============================] - 0s 1ms/step - loss: 15.1034 - val_loss: 15.1006\n",
      "Epoch 68/100\n",
      "84/84 [==============================] - 0s 1ms/step - loss: 15.1035 - val_loss: 15.1054\n",
      "Epoch 69/100\n",
      "84/84 [==============================] - 0s 1ms/step - loss: 15.1043 - val_loss: 15.1022\n",
      "Epoch 70/100\n",
      "84/84 [==============================] - 0s 1ms/step - loss: 15.1033 - val_loss: 15.1003\n",
      "Epoch 71/100\n",
      "84/84 [==============================] - 0s 1ms/step - loss: 15.1035 - val_loss: 15.1043\n",
      "Epoch 72/100\n",
      "84/84 [==============================] - 0s 1ms/step - loss: 15.1037 - val_loss: 15.1004\n",
      "Epoch 73/100\n",
      "84/84 [==============================] - 0s 1ms/step - loss: 15.1031 - val_loss: 15.1007\n",
      "Epoch 74/100\n",
      "84/84 [==============================] - 0s 1ms/step - loss: 15.1036 - val_loss: 15.1004\n",
      "Epoch 75/100\n",
      "84/84 [==============================] - 0s 1ms/step - loss: 15.1033 - val_loss: 15.1004\n",
      "Epoch 76/100\n",
      "84/84 [==============================] - 0s 1ms/step - loss: 15.1036 - val_loss: 15.1014\n",
      "Epoch 77/100\n",
      "84/84 [==============================] - 0s 1ms/step - loss: 15.1033 - val_loss: 15.1004\n",
      "Epoch 78/100\n",
      "84/84 [==============================] - 0s 1ms/step - loss: 15.1032 - val_loss: 15.1007\n",
      "Epoch 79/100\n",
      "84/84 [==============================] - 0s 1ms/step - loss: 15.1035 - val_loss: 15.1052\n",
      "Epoch 80/100\n",
      "84/84 [==============================] - 0s 1ms/step - loss: 15.1041 - val_loss: 15.1039\n",
      "Epoch 81/100\n",
      "84/84 [==============================] - 0s 1ms/step - loss: 15.1040 - val_loss: 15.1006\n",
      "Epoch 82/100\n",
      "84/84 [==============================] - 0s 1ms/step - loss: 15.1041 - val_loss: 15.1027\n",
      "Epoch 83/100\n",
      "84/84 [==============================] - 0s 1ms/step - loss: 15.1036 - val_loss: 15.1004\n",
      "Epoch 84/100\n",
      "84/84 [==============================] - 0s 1ms/step - loss: 15.1031 - val_loss: 15.1106\n",
      "Epoch 85/100\n",
      "84/84 [==============================] - 0s 1ms/step - loss: 15.1040 - val_loss: 15.1006\n",
      "Epoch 86/100\n",
      "84/84 [==============================] - 0s 1ms/step - loss: 15.1031 - val_loss: 15.1004\n",
      "Epoch 87/100\n",
      "84/84 [==============================] - 0s 1ms/step - loss: 15.1030 - val_loss: 15.1004\n",
      "Epoch 88/100\n",
      "84/84 [==============================] - 0s 1ms/step - loss: 15.1032 - val_loss: 15.1002\n",
      "Epoch 89/100\n",
      "84/84 [==============================] - 0s 1ms/step - loss: 15.1030 - val_loss: 15.1009\n",
      "Epoch 90/100\n",
      "84/84 [==============================] - 0s 1ms/step - loss: 15.1033 - val_loss: 15.1026\n",
      "Epoch 91/100\n",
      "84/84 [==============================] - 0s 1ms/step - loss: 15.1035 - val_loss: 15.1005\n",
      "Epoch 92/100\n",
      "84/84 [==============================] - 0s 1ms/step - loss: 15.1033 - val_loss: 15.1202\n",
      "Epoch 93/100\n",
      "84/84 [==============================] - 0s 1ms/step - loss: 15.1056 - val_loss: 15.1008\n",
      "Epoch 94/100\n",
      "84/84 [==============================] - 0s 1ms/step - loss: 15.1031 - val_loss: 15.1004\n",
      "Epoch 95/100\n",
      "84/84 [==============================] - 0s 1ms/step - loss: 15.1033 - val_loss: 15.1026\n",
      "Epoch 96/100\n",
      "84/84 [==============================] - 0s 1ms/step - loss: 15.1035 - val_loss: 15.1010\n",
      "Epoch 97/100\n",
      "84/84 [==============================] - 0s 1ms/step - loss: 15.1028 - val_loss: 15.1014\n",
      "Epoch 98/100\n",
      "84/84 [==============================] - 0s 1ms/step - loss: 15.1033 - val_loss: 15.1002\n",
      "Epoch 99/100\n",
      "84/84 [==============================] - 0s 1ms/step - loss: 15.1029 - val_loss: 15.1012\n",
      "Epoch 100/100\n",
      "84/84 [==============================] - 0s 1ms/step - loss: 15.1033 - val_loss: 15.1017\n"
     ]
    }
   ],
   "source": [
    "history = model.fit(x_train, y_train, epochs=100, batch_size=64, validation_data=(x_test, y_test))"
   ]
  },
  {
   "cell_type": "code",
   "execution_count": 78,
   "metadata": {},
   "outputs": [
    {
     "data": {
      "image/png": "[encoded data removed]",
      "text/plain": [
       "<Figure size 640x480 with 1 Axes>"
      ]
     },
     "metadata": {},
     "output_type": "display_data"
    }
   ],
   "source": [
    "import matplotlib.pyplot as plt\n",
    "\n",
    "# Plot training history\n",
    "plt.plot(history.history['loss'], label='Training Loss')\n",
    "plt.plot(history.history['val_loss'], label='Validation Loss')\n",
    "plt.legend()\n",
    "plt.show()"
   ]
  },
  {
   "cell_type": "code",
   "execution_count": 79,
   "metadata": {},
   "outputs": [
    {
     "name": "stdout",
     "output_type": "stream",
     "text": [
      "30/30 [==============================] - 0s 810us/step\n",
      "2.7102780689654105\n"
     ]
    }
   ],
   "source": [
    "pred = model.predict(x_test)\n",
    "error = np.abs(y_test - pred)\n",
    "avg_error = np.mean(error)\n",
    "print(avg_error)"
   ]
  }
 ],
 "metadata": {
  "kernelspec": {
   "display_name": "Python 3",
   "language": "python",
   "name": "python3"
  },
  "language_info": {
   "codemirror_mode": {
    "name": "ipython",
    "version": 3
   },
   "file_extension": ".py",
   "mimetype": "text/x-python",
   "name": "python",
   "nbconvert_exporter": "python",
   "pygments_lexer": "ipython3",
   "version": "3.11.5"
  }
 },
 "nbformat": 4,
 "nbformat_minor": 2
}
